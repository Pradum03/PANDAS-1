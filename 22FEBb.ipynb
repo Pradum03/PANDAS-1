{
 "cells": [
  {
   "cell_type": "markdown",
   "id": "d76fe640-c427-491c-8aa7-dcb235eb9269",
   "metadata": {},
   "source": [
    "ASSIGNMENT:22"
   ]
  },
  {
   "cell_type": "markdown",
   "id": "6c464062-385a-402d-baba-56fc6e51b0a6",
   "metadata": {},
   "source": [
    "1.  Create a Pandas Series that contains the following data: 4, 8, 15, 16, 23, and 42. Then, print the series"
   ]
  },
  {
   "cell_type": "code",
   "execution_count": 2,
   "id": "e8558fc1-65af-4b34-8277-8225d350802e",
   "metadata": {},
   "outputs": [
    {
     "name": "stdout",
     "output_type": "stream",
     "text": [
      "0     4\n",
      "1     8\n",
      "2    15\n",
      "3    16\n",
      "4    23\n",
      "5    42\n",
      "dtype: int64\n"
     ]
    }
   ],
   "source": [
    "import pandas as pd\n",
    "data = [4, 8, 15, 16, 23, 42]\n",
    "series=pd.Series(data)\n",
    "print(series)"
   ]
  },
  {
   "cell_type": "markdown",
   "id": "7984303a-296f-41c5-998c-16507579f7ca",
   "metadata": {},
   "source": [
    "2.Create a variable of list type containing 10 elements in it, and apply pandas.Series function on the \n",
    "variable print it"
   ]
  },
  {
   "cell_type": "code",
   "execution_count": 5,
   "id": "ee1b57b2-f5a4-4b0d-a8f6-4596ab5c748a",
   "metadata": {},
   "outputs": [
    {
     "name": "stdout",
     "output_type": "stream",
     "text": [
      "0     1\n",
      "1     2\n",
      "2     3\n",
      "3     4\n",
      "4     5\n",
      "5     6\n",
      "6     7\n",
      "7     8\n",
      "8     9\n",
      "9    10\n",
      "dtype: int64\n"
     ]
    }
   ],
   "source": [
    "var= [1,2,3,4,5,6,7,8,9,10]\n",
    "series_2=pd.Series(var)\n",
    "print(series_2)"
   ]
  },
  {
   "cell_type": "markdown",
   "id": "451a2173-5ba8-45d8-922e-930b0bc199b8",
   "metadata": {},
   "source": [
    "3. Create a Pandas DataFrame "
   ]
  },
  {
   "cell_type": "code",
   "execution_count": 10,
   "id": "c22c6485-7ed2-4819-975e-eccbeea40e62",
   "metadata": {},
   "outputs": [
    {
     "name": "stdout",
     "output_type": "stream",
     "text": [
      "     Name  Age  Gender\n",
      "0   Alice   25  Female\n",
      "1     Bob   30    Male\n",
      "2  Claire   27  Female\n"
     ]
    }
   ],
   "source": [
    "value={'Name': ['Alice', 'Bob', 'Claire'],\n",
    "    'Age': [25, 30, 27],\n",
    "    'Gender': ['Female', 'Male', 'Female']}\n",
    "\n",
    "df=pd.DataFrame(value)\n",
    "\n",
    "print(df)\n",
    "                \n",
    "                \n"
   ]
  },
  {
   "cell_type": "markdown",
   "id": "407e2bfa-aa1c-4349-9596-ca480610bbe2",
   "metadata": {},
   "source": [
    "4.  What is ‘DataFrame’ in pandas and how is it different from pandas.series? Explain with an example."
   ]
  },
  {
   "cell_type": "markdown",
   "id": "4c16a98d-7892-4424-aaa2-52884a25bea6",
   "metadata": {},
   "source": [
    "In Pandas, a DataFrame is a two-dimensional labeled data structure with columns of potentially different types, similar to a table in a relational database. Each column in a DataFrame is a Pandas Series object, and the rows in the DataFrame correspond to observations or samples.\n",
    "\n",
    "In other words, a DataFrame is a collection of Pandas Series objects, each representing a column of data, with a common index that defines the rows of the DataFrame."
   ]
  },
  {
   "cell_type": "markdown",
   "id": "cb72f088-873c-4f38-bb53-2f789cd0f6c2",
   "metadata": {},
   "source": [
    "The main difference between a DataFrame and a Series is that a DataFrame can have multiple columns of different types, while a Series is a one-dimensional data structure with a single data type. In the example above, my_series is a one-dimensional data structure with a single column of integers, while my_df is a two-dimensional data structure with three columns of mixed types.\n",
    "\n",
    "Another key difference is that a DataFrame has both a row index and a column index, while a Series has only a single index that applies to all of its elements. This means that we can access individual columns of a DataFrame using their column names, but we can only access elements of a Series using their integer index.\n"
   ]
  },
  {
   "cell_type": "code",
   "execution_count": 13,
   "id": "f9d81f0e-fac6-4dab-aa36-53656f4b7e31",
   "metadata": {},
   "outputs": [
    {
     "name": "stdout",
     "output_type": "stream",
     "text": [
      "SERIES:\n",
      "\n",
      " 0    1\n",
      "1    2\n",
      "2    3\n",
      "3    4\n",
      "dtype: int64\n",
      "DATAFRAME:\n",
      "\n",
      "       Name  Age           City\n",
      "0    Alice   25       New York\n",
      "1      Bob   32          Paris\n",
      "2  Charlie   18         London\n",
      "3    David   47  San Francisco\n"
     ]
    }
   ],
   "source": [
    "import pandas as pd\n",
    "\n",
    "my_series = pd.Series([1, 2, 3, 4])\n",
    "\n",
    "my_df = pd.DataFrame({\n",
    "    'Name': ['Alice', 'Bob', 'Charlie', 'David'],\n",
    "    'Age': [25, 32, 18, 47],\n",
    "    'City': ['New York', 'Paris', 'London', 'San Francisco']\n",
    "})\n",
    "\n",
    "print(\"SERIES:\\n\\n\", my_series)\n",
    "print(\"DATAFRAME:\\n\\n\", my_df)\n"
   ]
  },
  {
   "cell_type": "markdown",
   "id": "1a52b555-fc7c-4938-ac29-07927eb6ddbe",
   "metadata": {},
   "source": [
    "5. What are some common functions you can use to manipulate data in a Pandas DataFrame? Can \n",
    "you give an example of when you might use one of these functions?"
   ]
  },
  {
   "cell_type": "markdown",
   "id": "b6492654-4e39-42a8-95ae-eb9dbe1c4de3",
   "metadata": {},
   "source": [
    "Pandas provides a rich set of functions to manipulate data in a DataFrame. Some common functions include:\n",
    "\n",
    "head() and tail(): to view the first or last few rows of a DataFrame.\n",
    "\n",
    "info(): to display a concise summary of a DataFrame, including its data types and number of non-null values.\n",
    "\n",
    "describe(): to generate descriptive statistics about a DataFrame, such as the count, mean, standard deviation, minimum, and maximum values of each column.\n",
    "\n",
    "sort_values(): to sort a DataFrame by one or more columns in ascending or descending order.\n",
    "\n",
    "groupby(): to group a DataFrame by one or more columns and apply a function to each group.\n",
    "\n",
    "drop(): to remove one or more rows or columns from a DataFrame.\n",
    "\n",
    "fillna(): to fill missing values in a DataFrame with a specified value or method.\n"
   ]
  },
  {
   "cell_type": "code",
   "execution_count": 17,
   "id": "12ee662b-026c-4dc4-9638-7bcca8f4b605",
   "metadata": {},
   "outputs": [
    {
     "data": {
      "text/html": [
       "<div>\n",
       "<style scoped>\n",
       "    .dataframe tbody tr th:only-of-type {\n",
       "        vertical-align: middle;\n",
       "    }\n",
       "\n",
       "    .dataframe tbody tr th {\n",
       "        vertical-align: top;\n",
       "    }\n",
       "\n",
       "    .dataframe thead th {\n",
       "        text-align: right;\n",
       "    }\n",
       "</style>\n",
       "<table border=\"1\" class=\"dataframe\">\n",
       "  <thead>\n",
       "    <tr style=\"text-align: right;\">\n",
       "      <th></th>\n",
       "      <th>Name</th>\n",
       "      <th>Age</th>\n",
       "      <th>Gender</th>\n",
       "    </tr>\n",
       "  </thead>\n",
       "  <tbody>\n",
       "    <tr>\n",
       "      <th>0</th>\n",
       "      <td>Alice</td>\n",
       "      <td>25</td>\n",
       "      <td>Female</td>\n",
       "    </tr>\n",
       "  </tbody>\n",
       "</table>\n",
       "</div>"
      ],
      "text/plain": [
       "    Name  Age  Gender\n",
       "0  Alice   25  Female"
      ]
     },
     "execution_count": 17,
     "metadata": {},
     "output_type": "execute_result"
    }
   ],
   "source": [
    "df.head(1)"
   ]
  },
  {
   "cell_type": "code",
   "execution_count": 16,
   "id": "e7a19d5d-708a-4764-9bde-21026fdadd62",
   "metadata": {},
   "outputs": [
    {
     "data": {
      "text/html": [
       "<div>\n",
       "<style scoped>\n",
       "    .dataframe tbody tr th:only-of-type {\n",
       "        vertical-align: middle;\n",
       "    }\n",
       "\n",
       "    .dataframe tbody tr th {\n",
       "        vertical-align: top;\n",
       "    }\n",
       "\n",
       "    .dataframe thead th {\n",
       "        text-align: right;\n",
       "    }\n",
       "</style>\n",
       "<table border=\"1\" class=\"dataframe\">\n",
       "  <thead>\n",
       "    <tr style=\"text-align: right;\">\n",
       "      <th></th>\n",
       "      <th>Name</th>\n",
       "      <th>Age</th>\n",
       "      <th>Gender</th>\n",
       "    </tr>\n",
       "  </thead>\n",
       "  <tbody>\n",
       "    <tr>\n",
       "      <th>2</th>\n",
       "      <td>Claire</td>\n",
       "      <td>27</td>\n",
       "      <td>Female</td>\n",
       "    </tr>\n",
       "  </tbody>\n",
       "</table>\n",
       "</div>"
      ],
      "text/plain": [
       "     Name  Age  Gender\n",
       "2  Claire   27  Female"
      ]
     },
     "execution_count": 16,
     "metadata": {},
     "output_type": "execute_result"
    }
   ],
   "source": [
    "df.tail(1)"
   ]
  },
  {
   "cell_type": "code",
   "execution_count": 18,
   "id": "8be44896-20e0-4ee5-a731-2513c2a0152e",
   "metadata": {},
   "outputs": [
    {
     "name": "stdout",
     "output_type": "stream",
     "text": [
      "<class 'pandas.core.frame.DataFrame'>\n",
      "RangeIndex: 3 entries, 0 to 2\n",
      "Data columns (total 3 columns):\n",
      " #   Column  Non-Null Count  Dtype \n",
      "---  ------  --------------  ----- \n",
      " 0   Name    3 non-null      object\n",
      " 1   Age     3 non-null      int64 \n",
      " 2   Gender  3 non-null      object\n",
      "dtypes: int64(1), object(2)\n",
      "memory usage: 200.0+ bytes\n"
     ]
    }
   ],
   "source": [
    "df.info()"
   ]
  },
  {
   "cell_type": "code",
   "execution_count": 19,
   "id": "094920f1-999e-4aff-ba38-2b1a4743ad7b",
   "metadata": {},
   "outputs": [
    {
     "data": {
      "text/html": [
       "<div>\n",
       "<style scoped>\n",
       "    .dataframe tbody tr th:only-of-type {\n",
       "        vertical-align: middle;\n",
       "    }\n",
       "\n",
       "    .dataframe tbody tr th {\n",
       "        vertical-align: top;\n",
       "    }\n",
       "\n",
       "    .dataframe thead th {\n",
       "        text-align: right;\n",
       "    }\n",
       "</style>\n",
       "<table border=\"1\" class=\"dataframe\">\n",
       "  <thead>\n",
       "    <tr style=\"text-align: right;\">\n",
       "      <th></th>\n",
       "      <th>Age</th>\n",
       "    </tr>\n",
       "  </thead>\n",
       "  <tbody>\n",
       "    <tr>\n",
       "      <th>count</th>\n",
       "      <td>3.000000</td>\n",
       "    </tr>\n",
       "    <tr>\n",
       "      <th>mean</th>\n",
       "      <td>27.333333</td>\n",
       "    </tr>\n",
       "    <tr>\n",
       "      <th>std</th>\n",
       "      <td>2.516611</td>\n",
       "    </tr>\n",
       "    <tr>\n",
       "      <th>min</th>\n",
       "      <td>25.000000</td>\n",
       "    </tr>\n",
       "    <tr>\n",
       "      <th>25%</th>\n",
       "      <td>26.000000</td>\n",
       "    </tr>\n",
       "    <tr>\n",
       "      <th>50%</th>\n",
       "      <td>27.000000</td>\n",
       "    </tr>\n",
       "    <tr>\n",
       "      <th>75%</th>\n",
       "      <td>28.500000</td>\n",
       "    </tr>\n",
       "    <tr>\n",
       "      <th>max</th>\n",
       "      <td>30.000000</td>\n",
       "    </tr>\n",
       "  </tbody>\n",
       "</table>\n",
       "</div>"
      ],
      "text/plain": [
       "             Age\n",
       "count   3.000000\n",
       "mean   27.333333\n",
       "std     2.516611\n",
       "min    25.000000\n",
       "25%    26.000000\n",
       "50%    27.000000\n",
       "75%    28.500000\n",
       "max    30.000000"
      ]
     },
     "execution_count": 19,
     "metadata": {},
     "output_type": "execute_result"
    }
   ],
   "source": [
    "df.describe()"
   ]
  },
  {
   "cell_type": "code",
   "execution_count": 20,
   "id": "1f5e8b59-bfa7-4f01-808e-0a9020257662",
   "metadata": {},
   "outputs": [
    {
     "data": {
      "text/html": [
       "<div>\n",
       "<style scoped>\n",
       "    .dataframe tbody tr th:only-of-type {\n",
       "        vertical-align: middle;\n",
       "    }\n",
       "\n",
       "    .dataframe tbody tr th {\n",
       "        vertical-align: top;\n",
       "    }\n",
       "\n",
       "    .dataframe thead th {\n",
       "        text-align: right;\n",
       "    }\n",
       "</style>\n",
       "<table border=\"1\" class=\"dataframe\">\n",
       "  <thead>\n",
       "    <tr style=\"text-align: right;\">\n",
       "      <th></th>\n",
       "      <th>Name</th>\n",
       "      <th>Age</th>\n",
       "      <th>Gender</th>\n",
       "    </tr>\n",
       "  </thead>\n",
       "  <tbody>\n",
       "    <tr>\n",
       "      <th>1</th>\n",
       "      <td>Bob</td>\n",
       "      <td>30</td>\n",
       "      <td>Male</td>\n",
       "    </tr>\n",
       "    <tr>\n",
       "      <th>2</th>\n",
       "      <td>Claire</td>\n",
       "      <td>27</td>\n",
       "      <td>Female</td>\n",
       "    </tr>\n",
       "    <tr>\n",
       "      <th>0</th>\n",
       "      <td>Alice</td>\n",
       "      <td>25</td>\n",
       "      <td>Female</td>\n",
       "    </tr>\n",
       "  </tbody>\n",
       "</table>\n",
       "</div>"
      ],
      "text/plain": [
       "     Name  Age  Gender\n",
       "1     Bob   30    Male\n",
       "2  Claire   27  Female\n",
       "0   Alice   25  Female"
      ]
     },
     "execution_count": 20,
     "metadata": {},
     "output_type": "execute_result"
    }
   ],
   "source": [
    "df.sort_values(by='Age',ascending=False)"
   ]
  },
  {
   "cell_type": "code",
   "execution_count": 25,
   "id": "5be0127c-6558-4a62-9629-1ffeda0560fd",
   "metadata": {},
   "outputs": [
    {
     "data": {
      "text/plain": [
       "Gender\n",
       "Female    26.0\n",
       "Male      30.0\n",
       "Name: Age, dtype: float64"
      ]
     },
     "execution_count": 25,
     "metadata": {},
     "output_type": "execute_result"
    }
   ],
   "source": [
    "df.groupby('Gender')['Age'].mean()"
   ]
  },
  {
   "cell_type": "code",
   "execution_count": 26,
   "id": "994758a5-6b3e-4259-82b2-56ef8cb25dc8",
   "metadata": {},
   "outputs": [
    {
     "data": {
      "text/html": [
       "<div>\n",
       "<style scoped>\n",
       "    .dataframe tbody tr th:only-of-type {\n",
       "        vertical-align: middle;\n",
       "    }\n",
       "\n",
       "    .dataframe tbody tr th {\n",
       "        vertical-align: top;\n",
       "    }\n",
       "\n",
       "    .dataframe thead th {\n",
       "        text-align: right;\n",
       "    }\n",
       "</style>\n",
       "<table border=\"1\" class=\"dataframe\">\n",
       "  <thead>\n",
       "    <tr style=\"text-align: right;\">\n",
       "      <th></th>\n",
       "      <th>Name</th>\n",
       "      <th>Age</th>\n",
       "      <th>Gender</th>\n",
       "    </tr>\n",
       "  </thead>\n",
       "  <tbody>\n",
       "    <tr>\n",
       "      <th>1</th>\n",
       "      <td>Bob</td>\n",
       "      <td>30</td>\n",
       "      <td>Male</td>\n",
       "    </tr>\n",
       "    <tr>\n",
       "      <th>2</th>\n",
       "      <td>Claire</td>\n",
       "      <td>27</td>\n",
       "      <td>Female</td>\n",
       "    </tr>\n",
       "  </tbody>\n",
       "</table>\n",
       "</div>"
      ],
      "text/plain": [
       "     Name  Age  Gender\n",
       "1     Bob   30    Male\n",
       "2  Claire   27  Female"
      ]
     },
     "execution_count": 26,
     "metadata": {},
     "output_type": "execute_result"
    }
   ],
   "source": [
    "df.drop(0)"
   ]
  },
  {
   "cell_type": "markdown",
   "id": "4f3eb520-a523-4ca8-8dc7-7edb8e5047cc",
   "metadata": {},
   "source": [
    "6. Which of the following is mutable in nature Series, DataFrame, Panel?"
   ]
  },
  {
   "cell_type": "markdown",
   "id": "576ed232-7e1e-4629-8ff1-0188b8d7f8b2",
   "metadata": {},
   "source": [
    "In Pandas, Series and DataFrame are mutable in nature, while Panel is immutable.\n",
    "\n",
    "When you modify a Series or DataFrame object, the changes are reflected in the original object, whereas Panel objects are not designed to be modified in place. Instead, you typically create a new Panel object with the desired modifications."
   ]
  },
  {
   "cell_type": "markdown",
   "id": "66e94d00-dd26-44e4-9a4f-c710102417cf",
   "metadata": {},
   "source": [
    "7. Create a DataFrame using multiple Series. Explain with an example"
   ]
  },
  {
   "cell_type": "markdown",
   "id": "abe32c3d-7efe-421e-9ba6-7119dcbe1794",
   "metadata": {},
   "source": [
    "In Pandas, you can create a DataFrame using multiple Series by passing a dictionary of Series objects to the pd.DataFrame() constructor. The keys of the dictionary represent the column names of the DataFrame, and the values represent the data for each column."
   ]
  },
  {
   "cell_type": "code",
   "execution_count": 27,
   "id": "82b43058-05a0-47c1-b949-31b8f327536c",
   "metadata": {},
   "outputs": [
    {
     "name": "stdout",
     "output_type": "stream",
     "text": [
      "    Name  Age    City\n",
      "0    RAM   25  KANPUR\n",
      "1  SHYAM   32  NAGPUR\n",
      "2  RADHA   18  JAIPUR\n"
     ]
    }
   ],
   "source": [
    "import pandas as pd\n",
    "\n",
    "# Create three Series objects\n",
    "names = pd.Series(['RAM', 'SHYAM', 'RADHA'])\n",
    "ages = pd.Series([25, 32, 18])\n",
    "cities = pd.Series(['KANPUR', 'NAGPUR', 'JAIPUR'])\n",
    "\n",
    "# Create a dictionary of the Series objects\n",
    "data = {'Name': names, 'Age': ages, 'City': cities}\n",
    "\n",
    "# Create a DataFrame from the dictionary\n",
    "my_df = pd.DataFrame(data)\n",
    "\n",
    "# Print the DataFrame\n",
    "print(my_df)\n"
   ]
  },
  {
   "cell_type": "code",
   "execution_count": null,
   "id": "e7a9ba2d-f8e5-4c7c-ba53-d05f0cf1b0af",
   "metadata": {},
   "outputs": [],
   "source": []
  }
 ],
 "metadata": {
  "kernelspec": {
   "display_name": "Python 3 (ipykernel)",
   "language": "python",
   "name": "python3"
  },
  "language_info": {
   "codemirror_mode": {
    "name": "ipython",
    "version": 3
   },
   "file_extension": ".py",
   "mimetype": "text/x-python",
   "name": "python",
   "nbconvert_exporter": "python",
   "pygments_lexer": "ipython3",
   "version": "3.10.8"
  }
 },
 "nbformat": 4,
 "nbformat_minor": 5
}
